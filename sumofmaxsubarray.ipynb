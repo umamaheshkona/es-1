{
  "nbformat": 4,
  "nbformat_minor": 0,
  "metadata": {
    "colab": {
      "provenance": [],
      "authorship_tag": "ABX9TyNmt53KmUAcDkbxRe6J1UOR",
      "include_colab_link": true
    },
    "kernelspec": {
      "name": "python3",
      "display_name": "Python 3"
    },
    "language_info": {
      "name": "python"
    }
  },
  "cells": [
    {
      "cell_type": "markdown",
      "metadata": {
        "id": "view-in-github",
        "colab_type": "text"
      },
      "source": [
        "<a href=\"https://colab.research.google.com/github/umamaheshkona/es-1/blob/main/sumofmaxsubarray.ipynb\" target=\"_parent\"><img src=\"https://colab.research.google.com/assets/colab-badge.svg\" alt=\"Open In Colab\"/></a>"
      ]
    },
    {
      "cell_type": "code",
      "execution_count": 2,
      "metadata": {
        "colab": {
          "base_uri": "https://localhost:8080/"
        },
        "id": "jW16LUjqSPlB",
        "outputId": "942a7e1e-d577-4233-df8e-48ed0be01441"
      },
      "outputs": [
        {
          "output_type": "stream",
          "name": "stdout",
          "text": [
            "8\n"
          ]
        }
      ],
      "source": [
        "a = [3,5,-6,1]\n",
        "p = [None]*len(a)\n",
        "cur = 0\n",
        "max = -1e8\n",
        "for i in range(0,len(a)):\n",
        "  cur = cur + a[i]\n",
        "  if(cur > max):\n",
        "    max = cur\n",
        "  if(cur < 0):\n",
        "    cur = 0\n",
        "print(max)"
      ]
    },
    {
      "cell_type": "code",
      "source": [],
      "metadata": {
        "id": "B77iTOgrTDB0"
      },
      "execution_count": null,
      "outputs": []
    }
  ]
}