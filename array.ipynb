{
  "nbformat": 4,
  "nbformat_minor": 0,
  "metadata": {
    "colab": {
      "provenance": [],
      "authorship_tag": "ABX9TyMwceea8+aQtJaQAcv5RBdF",
      "include_colab_link": true
    },
    "kernelspec": {
      "name": "python3",
      "display_name": "Python 3"
    },
    "language_info": {
      "name": "python"
    }
  },
  "cells": [
    {
      "cell_type": "markdown",
      "metadata": {
        "id": "view-in-github",
        "colab_type": "text"
      },
      "source": [
        "<a href=\"https://colab.research.google.com/github/umamaheshkona/es-1/blob/main/array.ipynb\" target=\"_parent\"><img src=\"https://colab.research.google.com/assets/colab-badge.svg\" alt=\"Open In Colab\"/></a>"
      ]
    },
    {
      "cell_type": "code",
      "execution_count": null,
      "metadata": {
        "colab": {
          "base_uri": "https://localhost:8080/"
        },
        "id": "VgBXZpkfDdIc",
        "outputId": "306af74d-e2ad-4687-e3d9-482d0cfa6dcb"
      },
      "outputs": [
        {
          "output_type": "stream",
          "name": "stdout",
          "text": [
            "['uma', 'mahesh']\n"
          ]
        }
      ],
      "source": [
        "#creating an array\n",
        "cars = [\"uma\",\"mahesh\"]\n",
        "print(cars)"
      ]
    },
    {
      "cell_type": "code",
      "source": [
        "#access the elements of an array\n",
        "x = cars[0]\n",
        "y = cars[1]\n",
        "print(x)\n",
        "print(y)"
      ],
      "metadata": {
        "colab": {
          "base_uri": "https://localhost:8080/"
        },
        "id": "H4cP-AmpDxlG",
        "outputId": "d192576c-4276-45eb-f12a-cc31160bbca3"
      },
      "execution_count": null,
      "outputs": [
        {
          "output_type": "stream",
          "name": "stdout",
          "text": [
            "uma\n",
            "mahesh\n"
          ]
        }
      ]
    },
    {
      "cell_type": "code",
      "source": [
        "#modify the values of an array\n",
        "cars[0] = \"deepu\"\n",
        "print(cars)"
      ],
      "metadata": {
        "colab": {
          "base_uri": "https://localhost:8080/"
        },
        "id": "ZhKi7nN5EFSB",
        "outputId": "12c1bc27-67f2-465b-af4f-f2613fbd73a4"
      },
      "execution_count": null,
      "outputs": [
        {
          "output_type": "stream",
          "name": "stdout",
          "text": [
            "['deepu', 'mahesh']\n"
          ]
        }
      ]
    },
    {
      "cell_type": "code",
      "source": [
        "#length of an array\n",
        "a = len(cars)\n",
        "print(a)"
      ],
      "metadata": {
        "colab": {
          "base_uri": "https://localhost:8080/"
        },
        "id": "lXb6ZXsMEkyH",
        "outputId": "44fc6cdd-ed9c-404a-c8f1-25928e59861d"
      },
      "execution_count": null,
      "outputs": [
        {
          "output_type": "stream",
          "name": "stdout",
          "text": [
            "2\n"
          ]
        }
      ]
    },
    {
      "cell_type": "code",
      "source": [
        "#looping array elements\n",
        "for z in cars:\n",
        "  print(z)"
      ],
      "metadata": {
        "colab": {
          "base_uri": "https://localhost:8080/"
        },
        "id": "auC--Va5E388",
        "outputId": "19589733-7780-4210-88c5-74cc1a2b4cc9"
      },
      "execution_count": null,
      "outputs": [
        {
          "output_type": "stream",
          "name": "stdout",
          "text": [
            "deepu\n",
            "mahesh\n"
          ]
        }
      ]
    },
    {
      "cell_type": "code",
      "source": [
        "#adding element to array\n",
        "cars.append(\"uma\")\n",
        "print(cars)"
      ],
      "metadata": {
        "colab": {
          "base_uri": "https://localhost:8080/"
        },
        "id": "PDEIk1kKFPOj",
        "outputId": "5f572208-ed71-4411-ff8c-cc5d6fe39817"
      },
      "execution_count": null,
      "outputs": [
        {
          "output_type": "stream",
          "name": "stdout",
          "text": [
            "['deepu', 'mahesh', 'uma']\n"
          ]
        }
      ]
    },
    {
      "cell_type": "code",
      "source": [
        "#removing array elements based on index\n",
        "cars.pop(1)\n",
        "print(cars)"
      ],
      "metadata": {
        "colab": {
          "base_uri": "https://localhost:8080/"
        },
        "id": "oN2LCDmhFkEp",
        "outputId": "521788a5-cc48-4b7c-ca80-16dd8f36ed4d"
      },
      "execution_count": null,
      "outputs": [
        {
          "output_type": "stream",
          "name": "stdout",
          "text": [
            "['deepu', 'uma']\n"
          ]
        }
      ]
    },
    {
      "cell_type": "code",
      "source": [
        "#removing array elements based on value\n",
        "cars.remove(\"uma\")\n",
        "print(cars)"
      ],
      "metadata": {
        "colab": {
          "base_uri": "https://localhost:8080/"
        },
        "id": "0n8zNtoKF2ae",
        "outputId": "e3f8d48f-1052-4090-e433-0ea9c57c44d6"
      },
      "execution_count": null,
      "outputs": [
        {
          "output_type": "stream",
          "name": "stdout",
          "text": [
            "['deepu']\n"
          ]
        }
      ]
    },
    {
      "cell_type": "code",
      "source": [
        "#sum of elements in an array\n",
        "sumu = 0\n",
        "arr = [1,2,5,6,7]\n",
        "for i in  arr:\n",
        "  sumu = sumu + i\n",
        "print(sumu)"
      ],
      "metadata": {
        "colab": {
          "base_uri": "https://localhost:8080/"
        },
        "id": "xqgaOD8RGDTa",
        "outputId": "234e2c3a-05ad-4b6e-e516-27b57bab3ab3"
      },
      "execution_count": null,
      "outputs": [
        {
          "output_type": "stream",
          "name": "stdout",
          "text": [
            "21\n"
          ]
        }
      ]
    },
    {
      "cell_type": "code",
      "source": [
        "#sum of elements in an array using recursion\n",
        "def sum(arr,n):\n",
        "  if(n==0):\n",
        "    return 0\n",
        "  return arr[n-1]+sum(arr,n-1)\n",
        "print(sum(arr,5))"
      ],
      "metadata": {
        "colab": {
          "base_uri": "https://localhost:8080/"
        },
        "id": "7iHgZDniIKIk",
        "outputId": "dbb3bfa2-1f8e-4b67-ad3b-bc3da361633a"
      },
      "execution_count": null,
      "outputs": [
        {
          "output_type": "stream",
          "name": "stdout",
          "text": [
            "21\n"
          ]
        }
      ]
    },
    {
      "cell_type": "code",
      "source": [
        "#reverse of an array\n",
        "start = 0\n",
        "end = len(arr)-1\n",
        "while(start<end):\n",
        "  arr[start],arr[end] = arr[end],arr[start]\n",
        "  start = start + 1\n",
        "  end = end - 1\n",
        "print(arr)"
      ],
      "metadata": {
        "colab": {
          "base_uri": "https://localhost:8080/"
        },
        "id": "iJxqyPKKJ5On",
        "outputId": "e761e3d1-dcc6-48be-d4ce-efc2c9701b6a"
      },
      "execution_count": null,
      "outputs": [
        {
          "output_type": "stream",
          "name": "stdout",
          "text": [
            "[7, 6, 5, 2, 1]\n"
          ]
        }
      ]
    },
    {
      "cell_type": "code",
      "source": [
        "#reverse of an array using recursion\n",
        "def reverse(arr,start,end):\n",
        "  if(start >= end ):\n",
        "    return\n",
        "  arr[start],arr[end] = arr[end],arr[start]\n",
        "  reverse(arr,start+1,end-1)\n",
        "  return arr\n",
        "print(reverse(arr,0,4))"
      ],
      "metadata": {
        "colab": {
          "base_uri": "https://localhost:8080/"
        },
        "id": "d0QRr9VbLtSH",
        "outputId": "7da9fd8f-2a09-4c3a-df30-9e1a2b01cfaf"
      },
      "execution_count": null,
      "outputs": [
        {
          "output_type": "stream",
          "name": "stdout",
          "text": [
            "[7, 6, 5, 2, 1]\n"
          ]
        }
      ]
    },
    {
      "cell_type": "code",
      "source": [
        "#minimum element in an array\n",
        "arrr = [5,47,99,8]\n",
        "min = arrr[0]\n",
        "for g in arrr:\n",
        "  if g < min :\n",
        "    min = g\n",
        "print(min)"
      ],
      "metadata": {
        "colab": {
          "base_uri": "https://localhost:8080/"
        },
        "id": "pxHbOtOXNJvp",
        "outputId": "f24499fa-0a48-4b91-ce44-6203de7d46cf"
      },
      "execution_count": null,
      "outputs": [
        {
          "output_type": "stream",
          "name": "stdout",
          "text": [
            "5\n"
          ]
        }
      ]
    },
    {
      "cell_type": "code",
      "source": [
        "#maximum element in an array\n",
        "arrr = [5,47,99,8]\n",
        "min = arrr[0]\n",
        "for g in arrr:\n",
        "  if g > min :\n",
        "    min = g\n",
        "print(min)"
      ],
      "metadata": {
        "colab": {
          "base_uri": "https://localhost:8080/"
        },
        "id": "yfr1-65WQfDw",
        "outputId": "e9e1fb4a-918c-4631-f5d3-09a433eae3e6"
      },
      "execution_count": null,
      "outputs": [
        {
          "output_type": "stream",
          "name": "stdout",
          "text": [
            "99\n"
          ]
        }
      ]
    },
    {
      "cell_type": "code",
      "source": [],
      "metadata": {
        "id": "wlj9tieRQnQG"
      },
      "execution_count": null,
      "outputs": []
    }
  ]
}